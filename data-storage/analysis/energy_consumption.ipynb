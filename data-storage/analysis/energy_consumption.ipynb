{
 "cells": [
  {
   "cell_type": "markdown",
   "id": "61694aaf",
   "metadata": {},
   "source": [
    "# Energy consumption"
   ]
  },
  {
   "cell_type": "code",
   "execution_count": 1,
   "id": "b9eca1d6",
   "metadata": {},
   "outputs": [],
   "source": [
    "import pandas as pd\n",
    "import numpy as np\n",
    "import os\n",
    "import matplotlib.pyplot as plt\n",
    "import helpers as h"
   ]
  },
  {
   "cell_type": "code",
   "execution_count": 2,
   "id": "91520681",
   "metadata": {},
   "outputs": [],
   "source": [
    "data_path = \"../results/energy_consumption/\"\n",
    "encryption_methods = [\"ASCON\", \"masked_ASCON\", \"AES-GCM\", \"NONE\"]\n",
    "intervals = [100, 100, 100, 100, 1000, 1000, 1000, 1000, 6000, 6000, 6000, 6000]\n",
    "fs = 4000"
   ]
  },
  {
   "cell_type": "code",
   "execution_count": 3,
   "id": "a80a60ea",
   "metadata": {},
   "outputs": [],
   "source": [
    "# ASCON\n",
    "path = os.path.join(data_path, \"ascon1-12\", \"Main current - Arc.csv\")\n",
    "orig_df = h.read_data(path)"
   ]
  },
  {
   "cell_type": "markdown",
   "id": "3fe419ae",
   "metadata": {},
   "source": [
    "### Separate power traces"
   ]
  },
  {
   "cell_type": "code",
   "execution_count": 4,
   "id": "75df197e",
   "metadata": {},
   "outputs": [],
   "source": [
    "def get_intervals(df, start_time, end_time, fs=4000):\n",
    "    start_time = int(start_time * fs)\n",
    "    end_time = int(end_time * fs)\n",
    "    return df.iloc[start_time:end_time].reset_index(drop=True)\n",
    "\n",
    "# Scen 1\n",
    "start_time = 8\n",
    "end_time = 1*60 + 49\n",
    "df1 = get_intervals(orig_df, start_time, end_time, fs=fs)\n",
    "\n",
    "# scen 2\n",
    "start_time = 2 * 60 + 55\n",
    "end_time = 4 * 60 + 35\n",
    "df2 = get_intervals(orig_df, start_time, end_time, fs=fs)\n",
    "\n",
    "# Scen 3\n",
    "start_time = 5 * 60 + 40\n",
    "end_time = 7 * 60 + 20\n",
    "df3 = get_intervals(orig_df, start_time, end_time, fs=fs)\n",
    "\n",
    "# Scen 4\n",
    "start_time = 8 * 60 + 26\n",
    "end_time = 10 * 60 + 6\n",
    "df4 = get_intervals(orig_df, start_time, end_time, fs=fs)\n",
    "\n",
    "# Scen 5\n",
    "start_time = 11 * 60 + 11\n",
    "end_time = 27 * 60 + 41\n",
    "df5 = get_intervals(orig_df, start_time, end_time, fs=fs)\n",
    "\n",
    "# Scen 6\n",
    "start_time = 28 * 60 + 47\n",
    "end_time = 45 * 60 + 17\n",
    "df6 = get_intervals(orig_df, start_time, end_time, fs=fs)\n",
    "\n",
    "# Scen 7\n",
    "start_time = 46 * 60 + 23\n",
    "end_time = 1*60*60 + 2 * 60 + 53\n",
    "df7 = get_intervals(orig_df, start_time, end_time, fs=fs)\n",
    "\n",
    "# Scen 8\n",
    "start_time = 1*60*60 + 4 * 60 + 0\n",
    "end_time = 1*60*60 + 20 * 60 + 30\n",
    "df8 = get_intervals(orig_df, start_time, end_time, fs=fs)\n",
    "\n",
    "# Scen 9\n",
    "start_time = 81 * 60 + 36\n",
    "end_time = 3*60*60 + 0 * 60 + 36\n",
    "df9 = get_intervals(orig_df, start_time, end_time, fs=fs)\n",
    "\n",
    "# Scen 10\n",
    "start_time = 3*60*60 + 1 * 60 + 47\n",
    "end_time = 4*60*60 + 40 * 60 + 46\n",
    "df10 = get_intervals(orig_df, start_time, end_time, fs=fs)\n",
    "\n",
    "# Scen 11\n",
    "start_time = 4*60*60 + 41 * 60 + 57\n",
    "end_time = 6*60*60 + 20 * 60 + 56\n",
    "df11 = get_intervals(orig_df, start_time, end_time, fs=fs)\n",
    "\n",
    "# Scen 12\n",
    "start_time = 6*60*60 + 22 * 60 + 6.5\n",
    "end_time = 8*60*60 + 1 * 60 + 6\n",
    "df12 = get_intervals(orig_df, start_time, end_time, fs=fs)"
   ]
  },
  {
   "cell_type": "code",
   "execution_count": 5,
   "id": "363ebd34",
   "metadata": {},
   "outputs": [],
   "source": [
    "dfs = [df1, df2, df3, df4,\n",
    "       df5, df6, df7, df8,\n",
    "       df9, df10, df11, df12]\n",
    "\n",
    "# h.plot_scenarios(dfs)"
   ]
  },
  {
   "cell_type": "code",
   "execution_count": 12,
   "id": "5ffaecf7",
   "metadata": {},
   "outputs": [
    {
     "name": "stderr",
     "output_type": "stream",
     "text": [
      "/home/nemisis84/master_thesis/ASCON-encryption-for-MCUs-in-an-MQTT-network/data-storage/analysis/helpers.py:276: SettingWithCopyWarning: \n",
      "A value is trying to be set on a copy of a slice from a DataFrame.\n",
      "Try using .loc[row_indexer,col_indexer] = value instead\n",
      "\n",
      "See the caveats in the documentation: https://pandas.pydata.org/pandas-docs/stable/user_guide/indexing.html#returning-a-view-versus-a-copy\n",
      "  df[\"state\"] = np.where(mask_full, \"high\", \"low\")\n"
     ]
    }
   ],
   "source": [
    "smooth_s    = 0.03\n",
    "thresh = 0.037\n",
    "min_gap_s   = 0.5\n",
    "\n",
    "segmented = h.fast_segment(\n",
    "    df=df12.iloc[:1000000],\n",
    "    value_col='Value',\n",
    "    fs=fs,\n",
    "    smooth_s=smooth_s,\n",
    "    thresh=thresh,\n",
    "    min_gap_s=min_gap_s\n",
    ")\n"
   ]
  },
  {
   "cell_type": "code",
   "execution_count": 2,
   "id": "d895030f",
   "metadata": {},
   "outputs": [],
   "source": [
    "# h.plot_segmented(segmented, fs=fs)"
   ]
  }
 ],
 "metadata": {
  "kernelspec": {
   "display_name": "datastorage_env",
   "language": "python",
   "name": "python3"
  },
  "language_info": {
   "codemirror_mode": {
    "name": "ipython",
    "version": 3
   },
   "file_extension": ".py",
   "mimetype": "text/x-python",
   "name": "python",
   "nbconvert_exporter": "python",
   "pygments_lexer": "ipython3",
   "version": "3.11.12"
  }
 },
 "nbformat": 4,
 "nbformat_minor": 5
}
